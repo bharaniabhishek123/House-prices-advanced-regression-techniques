{
 "cells": [
  {
   "cell_type": "code",
   "execution_count": 2,
   "metadata": {},
   "outputs": [
    {
     "name": "stdout",
     "output_type": "stream",
     "text": [
      "['test.csv.gz', 'sample_submission.csv.gz', 'test.csv', 'data_description.txt', 'train.csv', 'train.csv.gz', 'sample_submission.csv']\n"
     ]
    }
   ],
   "source": [
    "# This Python 3 environment comes with many helpful analytics libraries installed\n",
    "# It is defined by the kaggle/python docker image: https://github.com/kaggle/docker-python\n",
    "# For example, here's several helpful packages to load in \n",
    "\n",
    "import numpy as np # linear algebra\n",
    "import pandas as pd # data processing, CSV file I/O (e.g. pd.read_csv)\n",
    "import matplotlib.pyplot as plt\n",
    "import seaborn as sns\n",
    "from scipy.stats import norm\n",
    "from sklearn.preprocessing import StandardScaler\n",
    "from scipy.stats import norm\n",
    "from scipy import stats\n",
    "import warnings\n",
    "warnings.filterwarnings('ignore')\n",
    "# Input data files are available in the \"../input/\" directory.\n",
    "# For example, running this (by clicking run or pressing Shift+Enter) will list the files in the input directory\n",
    "%matplotlib inline\n",
    "from sklearn import linear_model\n",
    "from sklearn.metrics import mean_squared_error, r2_score\n",
    "\n",
    "import os\n",
    "print(os.listdir(\"../House-prices-advanced-regression-techniques/all\"))\n",
    "\n",
    "# Any results you write to the current directory are saved as output."
   ]
  },
  {
   "cell_type": "code",
   "execution_count": 3,
   "metadata": {},
   "outputs": [
    {
     "data": {
      "text/plain": [
       "Index(['Id', 'MSSubClass', 'MSZoning', 'LotFrontage', 'LotArea', 'Street',\n",
       "       'Alley', 'LotShape', 'LandContour', 'Utilities', 'LotConfig',\n",
       "       'LandSlope', 'Neighborhood', 'Condition1', 'Condition2', 'BldgType',\n",
       "       'HouseStyle', 'OverallQual', 'OverallCond', 'YearBuilt', 'YearRemodAdd',\n",
       "       'RoofStyle', 'RoofMatl', 'Exterior1st', 'Exterior2nd', 'MasVnrType',\n",
       "       'MasVnrArea', 'ExterQual', 'ExterCond', 'Foundation', 'BsmtQual',\n",
       "       'BsmtCond', 'BsmtExposure', 'BsmtFinType1', 'BsmtFinSF1',\n",
       "       'BsmtFinType2', 'BsmtFinSF2', 'BsmtUnfSF', 'TotalBsmtSF', 'Heating',\n",
       "       'HeatingQC', 'CentralAir', 'Electrical', '1stFlrSF', '2ndFlrSF',\n",
       "       'LowQualFinSF', 'GrLivArea', 'BsmtFullBath', 'BsmtHalfBath', 'FullBath',\n",
       "       'HalfBath', 'BedroomAbvGr', 'KitchenAbvGr', 'KitchenQual',\n",
       "       'TotRmsAbvGrd', 'Functional', 'Fireplaces', 'FireplaceQu', 'GarageType',\n",
       "       'GarageYrBlt', 'GarageFinish', 'GarageCars', 'GarageArea', 'GarageQual',\n",
       "       'GarageCond', 'PavedDrive', 'WoodDeckSF', 'OpenPorchSF',\n",
       "       'EnclosedPorch', '3SsnPorch', 'ScreenPorch', 'PoolArea', 'PoolQC',\n",
       "       'Fence', 'MiscFeature', 'MiscVal', 'MoSold', 'YrSold', 'SaleType',\n",
       "       'SaleCondition', 'SalePrice'],\n",
       "      dtype='object')"
      ]
     },
     "execution_count": 3,
     "metadata": {},
     "output_type": "execute_result"
    }
   ],
   "source": [
    "df_train = pd.read_csv('../House-prices-advanced-regression-techniques/all/train.csv')\n",
    "df_train.columns"
   ]
  },
  {
   "cell_type": "code",
   "execution_count": 4,
   "metadata": {},
   "outputs": [
    {
     "data": {
      "text/plain": [
       "count      1460.000000\n",
       "mean     180921.195890\n",
       "std       79442.502883\n",
       "min       34900.000000\n",
       "25%      129975.000000\n",
       "50%      163000.000000\n",
       "75%      214000.000000\n",
       "max      755000.000000\n",
       "Name: SalePrice, dtype: float64"
      ]
     },
     "execution_count": 4,
     "metadata": {},
     "output_type": "execute_result"
    }
   ],
   "source": [
    "#descriptive statistics summary\n",
    "df_train['SalePrice'].describe()"
   ]
  },
  {
   "cell_type": "code",
   "execution_count": 5,
   "metadata": {
    "collapsed": true
   },
   "outputs": [],
   "source": [
    "# Remove Missing Values\n",
    "\n",
    "# missing data  Percent = Number of total missing values for each column / Number of total values\n",
    "\n",
    "total = df_train.isnull().sum().sort_values(ascending=False)\n",
    "percent = (df_train.isnull().sum()/df_train.isnull().count()).sort_values(ascending=False)\n",
    "missing_data = pd.concat([total, percent], axis=1, keys=['Total', 'Percent'])"
   ]
  },
  {
   "cell_type": "code",
   "execution_count": 6,
   "metadata": {},
   "outputs": [
    {
     "data": {
      "text/plain": [
       "0"
      ]
     },
     "execution_count": 6,
     "metadata": {},
     "output_type": "execute_result"
    }
   ],
   "source": [
    "df_train = df_train.drop((missing_data[missing_data['Total'] > 1]).index,1)\n",
    "df_train = df_train.drop(df_train.loc[df_train['Electrical'].isnull()].index)\n",
    "df_train.isnull().sum().max() #just checking that there's no missing data missing..."
   ]
  },
  {
   "cell_type": "code",
   "execution_count": 7,
   "metadata": {
    "collapsed": true
   },
   "outputs": [],
   "source": [
    "# Log Transform the values to have linear relationship\n",
    "\n",
    "numeric_feats = df_train.dtypes[df_train.dtypes != \"object\"].index\n",
    "skewed_feats = df_train[numeric_feats].apply(lambda x: (x.dropna().skew())) #compute skewness\n",
    "skewed_feats = skewed_feats[skewed_feats > 0.75]\n",
    "skewed_feats = skewed_feats.index\n",
    "\n",
    "df_train[skewed_feats] = np.log1p(df_train[skewed_feats])\n"
   ]
  },
  {
   "cell_type": "code",
   "execution_count": 8,
   "metadata": {
    "collapsed": true
   },
   "outputs": [],
   "source": [
    "df_train = pd.get_dummies(df_train)\n",
    " \n",
    "#filling NA's with the mean of the column:\n",
    "df_train = df_train.fillna(df_train.mean())"
   ]
  },
  {
   "cell_type": "code",
   "execution_count": 9,
   "metadata": {
    "collapsed": true
   },
   "outputs": [],
   "source": [
    "# create X Train and Y Train and test set from training data\n",
    "# col 34 contains y\n",
    "\n",
    "X_train = pd.concat([df_train.iloc[:,0:34].copy(),df_train.iloc[:,35:].copy()],axis=1)[0:1167]\n",
    "y_train = df_train.iloc[:,34].copy()[0:1167] \n",
    "\n",
    "X_test = pd.concat([df_train.iloc[:,0:34].copy(),df_train.iloc[:,35:].copy()],axis=1)[1167:]\n",
    "y_test = df_train.iloc[:,34].copy()[1167:] \n",
    "# df_train.columns.get_loc(\"SalePrice\")"
   ]
  },
  {
   "cell_type": "code",
   "execution_count": 10,
   "metadata": {
    "collapsed": true
   },
   "outputs": [],
   "source": [
    "from sklearn import  linear_model\n",
    "\n",
    "# Create linear regression object\n",
    "regr = linear_model.LinearRegression()\n",
    "\n",
    "# Train the model using the training sets\n",
    "regr.fit(X_train, y_train)\n",
    "\n",
    "# Make predictions using the testing set\n",
    "Y_pred = regr.predict(X_test)"
   ]
  },
  {
   "cell_type": "code",
   "execution_count": 11,
   "metadata": {},
   "outputs": [
    {
     "data": {
      "text/plain": [
       "0.02504569024862892"
      ]
     },
     "execution_count": 11,
     "metadata": {},
     "output_type": "execute_result"
    }
   ],
   "source": [
    "from sklearn.metrics import mean_squared_error\n",
    "\n",
    "mean_squared_error(y_true=y_test, y_pred=Y_pred) "
   ]
  },
  {
   "cell_type": "code",
   "execution_count": 12,
   "metadata": {},
   "outputs": [
    {
     "name": "stdout",
     "output_type": "stream",
     "text": [
      "Coefficients: \n",
      " [-2.93956696e-06 -1.34211958e-02  9.89738111e-02  4.21028727e-02\n",
      "  3.93987977e-02  2.00039745e-03  1.09407859e-03  7.82249441e-03\n",
      " -1.67645404e-03 -5.39206774e-03  1.70194277e-02  5.97640524e-02\n",
      " -4.72491589e-03 -7.22633529e-03  4.26779590e-01  3.78106113e-02\n",
      "  2.26797309e-02  3.24790326e-02  2.12675786e-02 -1.26192327e-02\n",
      " -1.49719020e-01  6.84873411e-03  2.22657003e-02  1.06859457e-02\n",
      "  1.19355328e-04  3.09219610e-03  6.51881362e-04  3.34317248e-03\n",
      " -1.80215027e-03  9.76878906e-03  3.47984401e-03 -2.38860460e-03\n",
      " -2.62788926e-03 -4.68844838e-03 -3.46810670e-01  1.02144603e-01\n",
      "  8.94087164e-02  9.32642904e-02  6.19930600e-02 -4.33180076e-02\n",
      "  4.33180076e-02 -2.38477415e-02 -9.11436587e-03  4.44107076e-02\n",
      " -1.14486001e-02 -2.55153937e-02  1.36948745e-02 -3.11778986e-03\n",
      "  1.49383090e-02  9.27270969e-02 -9.27270969e-02  2.52548055e-02\n",
      "  3.92813868e-02 -7.94531282e-03 -7.46632189e-02  1.80723395e-02\n",
      "  1.07497255e-02  6.43882079e-02 -7.51379334e-02  2.88583657e-02\n",
      "  4.45133250e-02  4.48329199e-02  1.59681315e-02  9.28242048e-03\n",
      " -3.11758654e-02  5.62759283e-02 -1.09194890e-01 -3.21764712e-02\n",
      " -4.29262551e-02 -6.71696484e-02 -7.10983181e-02 -5.06578531e-02\n",
      "  5.02539653e-02 -6.48832150e-02  7.65839135e-02  8.63788186e-02\n",
      " -6.07856969e-02 -1.55476481e-02 -4.34809766e-02 -2.31774809e-02\n",
      "  4.37116563e-02  1.61704328e-01 -7.90040706e-03  1.81095226e-03\n",
      " -2.45455575e-02 -6.74901579e-03  4.40389961e-02 -7.81220789e-03\n",
      "  6.29579467e-02 -1.08131210e-01  3.35980475e-03  6.93116097e-04\n",
      "  3.61881273e-02 -6.52352855e-03  1.15998917e-01  9.17269550e-02\n",
      "  2.23980367e-01 -5.51949901e-01 -1.76941795e-16  1.12866336e-02\n",
      "  1.15480556e-01  6.96601648e-03  1.90778279e-02  1.38559938e-03\n",
      " -2.03563237e-02 -7.07312003e-03  9.55980864e-04  2.01771742e-02\n",
      " -2.05582247e-02 -1.29591636e-02  2.38321743e-02 -2.40088567e-02\n",
      "  2.71409438e-02 -1.45800283e-02 -7.90330727e-03  3.59278473e-03\n",
      " -3.77361758e-02  8.50787015e-03  3.35388281e-02 -2.77555756e-17\n",
      " -2.77555756e-17 -9.78857840e-02  2.01090395e-01  7.21806608e-02\n",
      "  1.04083409e-17 -1.12534359e-01 -1.44230122e-01  8.13792099e-02\n",
      "  7.23114782e-03 -7.91205843e-02 -1.09874354e-01  9.72900665e-02\n",
      " -1.38777878e-16 -8.53196084e-03  5.59410404e-03  1.57859836e-16\n",
      "  6.47270166e-02 -3.27158381e-03  5.38832909e-03  3.44559925e-02\n",
      "  1.35374364e-02 -3.82794376e-02  1.08538273e-02  3.15751923e-02\n",
      "  1.60816598e-02  1.82017979e-02 -2.38679113e-02 -2.25514052e-17\n",
      "  2.47898047e-02 -3.98185854e-03  2.45204434e-02 -3.84696729e-02\n",
      " -1.10509924e-01  4.10957955e-03 -2.81927072e-02  2.12699595e-02\n",
      "  1.45757708e-02  4.49552227e-02  4.94264295e-03 -1.54381478e-02\n",
      "  7.47010482e-02 -3.49733319e-02 -2.42895684e-02  7.19941677e-02\n",
      " -4.78337277e-02 -6.87693977e-03 -1.99196662e-02  2.63616599e-03\n",
      " -1.12756198e-02 -1.36825573e-02  3.72193380e-03 -3.76937581e-03\n",
      "  1.77293750e-01 -1.52288131e-01  0.00000000e+00  2.33067908e-02\n",
      "  7.33845125e-02 -1.79705951e-01 -9.71445147e-17  8.30146480e-02\n",
      "  2.24297366e-02 -9.37264803e-03 -7.87666598e-03  1.48691826e-02\n",
      " -2.00496051e-02 -1.67266302e-02  1.67266302e-02 -8.92928213e-03\n",
      "  1.18631459e-02 -1.16054032e-01  1.22409554e-01 -9.28938591e-03\n",
      "  4.94345426e-02 -1.23274761e-02 -2.24244825e-02 -1.46825840e-02\n",
      "  9.89849371e-02 -1.68807998e-01  6.26779597e-02  7.63706877e-02\n",
      " -9.61932017e-03 -2.09762918e-01  1.50156651e-01 -1.49194894e-04\n",
      " -1.84412967e-02  1.85904916e-02 -7.37043777e-02  1.06610852e-01\n",
      "  2.28447052e-02  7.47811608e-02 -4.04757059e-02 -1.04889587e-01\n",
      "  1.03976937e-01 -1.77184064e-02 -7.14255791e-02 -2.79920626e-02\n",
      "  1.20819274e-01 -1.65140729e-02 -2.41058262e-02  3.62193982e-02\n",
      " -8.84267108e-02]\n",
      "Mean squared error: 0.03\n",
      "Variance score: 0.84\n"
     ]
    }
   ],
   "source": [
    "# The coefficients\n",
    "print('Coefficients: \\n', regr.coef_)\n",
    "# The mean squared error\n",
    "print(\"Mean squared error: %.2f\"\n",
    "      % mean_squared_error(y_test, Y_pred))\n",
    "# Explained variance score: 1 is perfect prediction\n",
    "print('Variance score: %.2f' % r2_score(y_test, Y_pred))"
   ]
  },
  {
   "cell_type": "code",
   "execution_count": 13,
   "metadata": {},
   "outputs": [
    {
     "data": {
      "text/plain": [
       "0.15825830230553126"
      ]
     },
     "execution_count": 13,
     "metadata": {},
     "output_type": "execute_result"
    }
   ],
   "source": [
    "np.sqrt(mean_squared_error(y_test, Y_pred))\n",
    " "
   ]
  },
  {
   "cell_type": "code",
   "execution_count": 151,
   "metadata": {
    "collapsed": true
   },
   "outputs": [],
   "source": [
    "df_test = pd.read_csv('../House-prices-advanced-regression-techniques/all/test.csv')"
   ]
  },
  {
   "cell_type": "code",
   "execution_count": 152,
   "metadata": {},
   "outputs": [
    {
     "data": {
      "text/plain": [
       "(1459, 80)"
      ]
     },
     "execution_count": 152,
     "metadata": {},
     "output_type": "execute_result"
    }
   ],
   "source": [
    "df_test.shape"
   ]
  },
  {
   "cell_type": "code",
   "execution_count": 14,
   "metadata": {
    "collapsed": true
   },
   "outputs": [],
   "source": [
    "from sklearn.linear_model import Lasso\n",
    "from sklearn.linear_model import Ridge\n",
    "from sklearn.kernel_ridge import KernelRidge\n",
    "from sklearn.tree import DecisionTreeRegressor\n",
    "from sklearn.ensemble import RandomForestRegressor"
   ]
  },
  {
   "cell_type": "code",
   "execution_count": 43,
   "metadata": {
    "collapsed": true
   },
   "outputs": [],
   "source": [
    "# set up random forest regressor to find the feature importances\n",
    "forestreg = RandomForestRegressor(max_depth=99, n_estimators=2000, random_state=0).fit(X_train, y_train)\n",
    "Y_pred_forestreg = forestreg.predict(X_test)\n"
   ]
  },
  {
   "cell_type": "code",
   "execution_count": 44,
   "metadata": {},
   "outputs": [
    {
     "data": {
      "text/plain": [
       "0.021846840674685914"
      ]
     },
     "execution_count": 44,
     "metadata": {},
     "output_type": "execute_result"
    }
   ],
   "source": [
    "mean_squared_error(y_true=y_test, y_pred=Y_pred_forestreg) "
   ]
  },
  {
   "cell_type": "code",
   "execution_count": 45,
   "metadata": {},
   "outputs": [
    {
     "data": {
      "text/plain": [
       "0.022284733905649667"
      ]
     },
     "execution_count": 45,
     "metadata": {},
     "output_type": "execute_result"
    }
   ],
   "source": [
    "lassoreg = Lasso(alpha=0.001).fit(X_train, y_train)\n",
    "Y_pred_lassoreg = lassoreg.predict(X_test)\n",
    "mean_squared_error(y_true=y_test, y_pred=Y_pred_lassoreg)"
   ]
  },
  {
   "cell_type": "code",
   "execution_count": 47,
   "metadata": {},
   "outputs": [
    {
     "data": {
      "text/plain": [
       "0.022969219506477546"
      ]
     },
     "execution_count": 47,
     "metadata": {},
     "output_type": "execute_result"
    }
   ],
   "source": [
    "ridgereg = Ridge(alpha=10).fit(X_train, y_train)\n",
    "Y_pred_ridgereg = ridgereg.predict(X_test)\n",
    "mean_squared_error(y_true=y_test, y_pred=Y_pred_ridgereg)"
   ]
  },
  {
   "cell_type": "code",
   "execution_count": null,
   "metadata": {
    "collapsed": true
   },
   "outputs": [],
   "source": []
  }
 ],
 "metadata": {
  "kernelspec": {
   "display_name": "Python 3",
   "language": "python",
   "name": "python3"
  },
  "language_info": {
   "codemirror_mode": {
    "name": "ipython",
    "version": 3
   },
   "file_extension": ".py",
   "mimetype": "text/x-python",
   "name": "python",
   "nbconvert_exporter": "python",
   "pygments_lexer": "ipython3",
   "version": "3.6.3"
  }
 },
 "nbformat": 4,
 "nbformat_minor": 2
}
